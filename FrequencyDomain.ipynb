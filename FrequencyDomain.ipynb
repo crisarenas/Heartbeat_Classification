{
 "cells": [
  {
   "cell_type": "code",
   "execution_count": 1,
   "metadata": {},
   "outputs": [],
   "source": [
    "import numpy as np\n",
    "from scipy.io import wavfile\n",
    "import matplotlib.pyplot as plt\n",
    "%matplotlib inline\n",
    "import pandas as pd\n",
    "import wave\n",
    "import IPython.display as ipd # load a local WAV file and PLAY!!!\n",
    "import librosa\n",
    "import librosa.display"
   ]
  },
  {
   "cell_type": "code",
   "execution_count": 2,
   "metadata": {},
   "outputs": [
    {
     "name": "stdout",
     "output_type": "stream",
     "text": [
      "Shape a = (176, 4)\n",
      "Shape b = (656, 4)\n",
      "Shape a_timing = (390, 4)\n"
     ]
    }
   ],
   "source": [
    "set_a = pd.read_csv('inputsound/set_a.csv')\n",
    "set_b = pd.read_csv('inputsound/set_b.csv')\n",
    "set_a_timing = pd.read_csv('inputsound/set_a_timing.csv')\n",
    "print(f\"Shape a = {set_a.shape}\")\n",
    "print(f\"Shape b = {set_b.shape}\")\n",
    "print(f\"Shape a_timing = {set_a_timing.shape}\")"
   ]
  },
  {
   "cell_type": "markdown",
   "metadata": {},
   "source": [
    " "
   ]
  },
  {
   "cell_type": "markdown",
   "metadata": {},
   "source": [
    " "
   ]
  },
  {
   "cell_type": "markdown",
   "metadata": {},
   "source": [
    " "
   ]
  },
  {
   "cell_type": "markdown",
   "metadata": {},
   "source": [
    " "
   ]
  },
  {
   "cell_type": "markdown",
   "metadata": {},
   "source": [
    "### Concat set_a and set-b"
   ]
  },
  {
   "cell_type": "code",
   "execution_count": 3,
   "metadata": {},
   "outputs": [],
   "source": [
    "train_ab = pd.concat([set_a, set_b])"
   ]
  },
  {
   "cell_type": "code",
   "execution_count": 37,
   "metadata": {},
   "outputs": [
    {
     "data": {
      "text/plain": [
       "dataset       0\n",
       "fname         0\n",
       "label       247\n",
       "sublabel    683\n",
       "dtype: int64"
      ]
     },
     "execution_count": 37,
     "metadata": {},
     "output_type": "execute_result"
    }
   ],
   "source": [
    "train_ab.isnull().sum()"
   ]
  },
  {
   "cell_type": "markdown",
   "metadata": {},
   "source": [
    "## Labels"
   ]
  },
  {
   "cell_type": "code",
   "execution_count": 39,
   "metadata": {},
   "outputs": [
    {
     "data": {
      "text/html": [
       "<div>\n",
       "<style scoped>\n",
       "    .dataframe tbody tr th:only-of-type {\n",
       "        vertical-align: middle;\n",
       "    }\n",
       "\n",
       "    .dataframe tbody tr th {\n",
       "        vertical-align: top;\n",
       "    }\n",
       "\n",
       "    .dataframe thead th {\n",
       "        text-align: right;\n",
       "    }\n",
       "</style>\n",
       "<table border=\"1\" class=\"dataframe\">\n",
       "  <thead>\n",
       "    <tr style=\"text-align: right;\">\n",
       "      <th></th>\n",
       "      <th></th>\n",
       "      <th>fname</th>\n",
       "      <th>sublabel</th>\n",
       "    </tr>\n",
       "    <tr>\n",
       "      <th>label</th>\n",
       "      <th>dataset</th>\n",
       "      <th></th>\n",
       "      <th></th>\n",
       "    </tr>\n",
       "  </thead>\n",
       "  <tbody>\n",
       "    <tr>\n",
       "      <th>artifact</th>\n",
       "      <th>a</th>\n",
       "      <td>40</td>\n",
       "      <td>0</td>\n",
       "    </tr>\n",
       "    <tr>\n",
       "      <th>extrahls</th>\n",
       "      <th>a</th>\n",
       "      <td>19</td>\n",
       "      <td>0</td>\n",
       "    </tr>\n",
       "    <tr>\n",
       "      <th>extrastole</th>\n",
       "      <th>b</th>\n",
       "      <td>46</td>\n",
       "      <td>0</td>\n",
       "    </tr>\n",
       "    <tr>\n",
       "      <th rowspan=\"2\" valign=\"top\">murmur</th>\n",
       "      <th>a</th>\n",
       "      <td>34</td>\n",
       "      <td>0</td>\n",
       "    </tr>\n",
       "    <tr>\n",
       "      <th>b</th>\n",
       "      <td>95</td>\n",
       "      <td>29</td>\n",
       "    </tr>\n",
       "    <tr>\n",
       "      <th rowspan=\"2\" valign=\"top\">normal</th>\n",
       "      <th>a</th>\n",
       "      <td>31</td>\n",
       "      <td>0</td>\n",
       "    </tr>\n",
       "    <tr>\n",
       "      <th>b</th>\n",
       "      <td>320</td>\n",
       "      <td>120</td>\n",
       "    </tr>\n",
       "  </tbody>\n",
       "</table>\n",
       "</div>"
      ],
      "text/plain": [
       "                    fname  sublabel\n",
       "label      dataset                 \n",
       "artifact   a           40         0\n",
       "extrahls   a           19         0\n",
       "extrastole b           46         0\n",
       "murmur     a           34         0\n",
       "           b           95        29\n",
       "normal     a           31         0\n",
       "           b          320       120"
      ]
     },
     "execution_count": 39,
     "metadata": {},
     "output_type": "execute_result"
    }
   ],
   "source": [
    "train_ab.groupby(['label','dataset']).count()"
   ]
  },
  {
   "cell_type": "markdown",
   "metadata": {},
   "source": [
    " "
   ]
  },
  {
   "cell_type": "markdown",
   "metadata": {},
   "source": [
    " "
   ]
  },
  {
   "cell_type": "markdown",
   "metadata": {},
   "source": [
    " "
   ]
  },
  {
   "cell_type": "markdown",
   "metadata": {},
   "source": [
    " # Moving to fre"
   ]
  },
  {
   "cell_type": "markdown",
   "metadata": {},
   "source": [
    "# MFCC"
   ]
  },
  {
   "cell_type": "code",
   "execution_count": 96,
   "metadata": {},
   "outputs": [
    {
     "name": "stdout",
     "output_type": "stream",
     "text": [
      "(20, 345)\n"
     ]
    }
   ],
   "source": [
    "normal_file\n",
    "signal, rate = librosa.load(normal_file)\n",
    "mfcc = librosa.feature.mfcc(y=signal, sr = rate)\n",
    "print(mfcc.shape)"
   ]
  },
  {
   "cell_type": "code",
   "execution_count": 97,
   "metadata": {},
   "outputs": [
    {
     "name": "stdout",
     "output_type": "stream",
     "text": [
      "[[-316.10596    -310.8758     -306.57843    ... -310.63013\n",
      "  -308.99725    -311.91953   ]\n",
      " [  60.030426     60.64634      60.63127    ...   61.7085\n",
      "    56.116707     53.1548    ]\n",
      " [  19.345825     20.351774     22.711044   ...   23.609522\n",
      "    16.522863     15.225949  ]\n",
      " ...\n",
      " [  -1.2032924     1.2920165     1.6789914  ...   -4.831105\n",
      "    -5.611643     -0.45039755]\n",
      " [  -3.5643134     2.1731079     1.4246987  ...   -1.8750952\n",
      "    -1.7290454    -1.3562404 ]\n",
      " [  -5.1146255    -2.7549963    -3.9392262  ...   -5.0252514\n",
      "    -2.4316525     1.5535884 ]]\n"
     ]
    }
   ],
   "source": [
    "S = librosa.feature.melspectrogram(y=signal, sr=rate, n_mels=128,fmax=8000)\n",
    "log_S=librosa.feature.mfcc(S=librosa.power_to_db(S))\n",
    "print (log_S)"
   ]
  },
  {
   "cell_type": "code",
   "execution_count": 99,
   "metadata": {},
   "outputs": [
    {
     "name": "stdout",
     "output_type": "stream",
     "text": [
      "(13800, 1)\n"
     ]
    }
   ],
   "source": [
    "mfcc = librosa.feature.mfcc(y = signal, sr = rate, n_mfcc = 40)\n",
    "print(mfcc.reshape([-1,1]).shape)\n"
   ]
  },
  {
   "cell_type": "code",
   "execution_count": 103,
   "metadata": {
    "scrolled": true
   },
   "outputs": [
    {
     "data": {
      "image/png": "[encoded data removed]",
      "text/plain": [
       "<Figure size 864x216 with 2 Axes>"
      ]
     },
     "metadata": {
      "needs_background": "light"
     },
     "output_type": "display_data"
    }
   ],
   "source": [
    "plt.figure(figsize=(12,3))\n",
    "librosa.display.specshow(mfcc, x_axis='time')\n",
    "plt.colorbar()\n",
    "plt.title(\"MFCC\")\n",
    "plt.tight_layout()"
   ]
  },
  {
   "cell_type": "code",
   "execution_count": 104,
   "metadata": {},
   "outputs": [
    {
     "data": {
      "text/plain": [
       "<matplotlib.colorbar.Colorbar at 0x2501aa78>"
      ]
     },
     "execution_count": 104,
     "metadata": {},
     "output_type": "execute_result"
    },
    {
     "data": {
      "image/png": "[encoded data removed]",
      "text/plain": [
       "<Figure size 864x216 with 4 Axes>"
      ]
     },
     "metadata": {
      "needs_background": "light"
     },
     "output_type": "display_data"
    }
   ],
   "source": [
    "m_slaney = librosa.feature.mfcc(y=signal, sr=rate, dct_type=2)\n",
    "plt.figure(figsize=(12,3))\n",
    "\n",
    "m_htk = librosa.feature.mfcc(y=signal, sr=rate, dct_type=3)\n",
    "plt.subplot(3,1,1)\n",
    "librosa.display.specshow(m_slaney, x_axis='time')\n",
    "plt.title(\"dct_type = 2\")\n",
    "plt.colorbar()\n",
    "plt.subplot(3,1,3)\n",
    "librosa.display.specshow(m_htk, x_axis='time')\n",
    "plt.title(\"dct_type = 3\")\n",
    "plt.colorbar()"
   ]
  },
  {
   "cell_type": "code",
   "execution_count": null,
   "metadata": {},
   "outputs": [],
   "source": []
  },
  {
   "cell_type": "code",
   "execution_count": null,
   "metadata": {},
   "outputs": [],
   "source": []
  },
  {
   "cell_type": "code",
   "execution_count": null,
   "metadata": {},
   "outputs": [],
   "source": []
  },
  {
   "cell_type": "code",
   "execution_count": null,
   "metadata": {},
   "outputs": [],
   "source": []
  }
 ],
 "metadata": {
  "kernelspec": {
   "display_name": "Python 3",
   "language": "python",
   "name": "python3"
  },
  "language_info": {
   "codemirror_mode": {
    "name": "ipython",
    "version": 3
   },
   "file_extension": ".py",
   "mimetype": "text/x-python",
   "name": "python",
   "nbconvert_exporter": "python",
   "pygments_lexer": "ipython3",
   "version": "3.8.6"
  }
 },
 "nbformat": 4,
 "nbformat_minor": 4
}
