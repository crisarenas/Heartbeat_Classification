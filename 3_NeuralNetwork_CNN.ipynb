{
 "cells": [
  {
   "cell_type": "code",
   "execution_count": 1,
   "metadata": {},
   "outputs": [
    {
     "name": "stdout",
     "output_type": "stream",
     "text": [
      "Populating the interactive namespace from numpy and matplotlib\n"
     ]
    }
   ],
   "source": [
    "import IPython.display as ipd # load a local WAV file and PLAY!!!\n",
    "from scipy.signal import butter , filtfilt\n",
    "\n",
    "import os\n",
    "import pandas as pd\n",
    "import librosa\n",
    "import librosa.display\n",
    "import glob \n",
    "import matplotlib.pyplot as plt\n",
    "\n",
    "import tensorflow as tf\n",
    "import keras\n",
    "\n",
    "from sklearn.model_selection import train_test_split\n",
    "from sklearn import preprocessing\n",
    "\n",
    "import os, fnmatch\n",
    "\n",
    "import numpy as np\n",
    "from keras.models import Sequential, model_from_json\n",
    "from keras.layers import Dense, Dropout, Activation, Flatten, LSTM,Conv2D, Conv1D,MaxPool1D,Conv2D, MaxPool2D,BatchNormalization\n",
    "from keras.optimizers import Adam\n",
    "from keras.callbacks import EarlyStopping,ReduceLROnPlateau\n",
    "from keras.utils import np_utils\n",
    "from sklearn import metrics \n",
    "from sklearn.metrics import classification_report, accuracy_score\n",
    "import itertools\n",
    "from keras.layers import TimeDistributed, Bidirectional\n",
    "\n",
    "from livelossplot import PlotLossesKeras # To plot the NN realtime!\n",
    "\n",
    "from tqdm import tqdm\n",
    "\n",
    "\n",
    "%matplotlib inline\n",
    "%pylab inline"
   ]
  },
  {
   "cell_type": "code",
   "execution_count": 2,
   "metadata": {},
   "outputs": [],
   "source": [
    "PATH_A = 'inputsound/set_a/'\n",
    "PATH_B = 'inputsound/set_b/'\n",
    "MAX_AUDIO_DURATION = 12"
   ]
  },
  {
   "cell_type": "markdown",
   "metadata": {},
   "source": [
    " "
   ]
  },
  {
   "cell_type": "markdown",
   "metadata": {},
   "source": [
    " "
   ]
  },
  {
   "cell_type": "markdown",
   "metadata": {},
   "source": [
    " "
   ]
  },
  {
   "cell_type": "markdown",
   "metadata": {},
   "source": [
    " "
   ]
  },
  {
   "cell_type": "markdown",
   "metadata": {},
   "source": [
    " "
   ]
  },
  {
   "cell_type": "markdown",
   "metadata": {},
   "source": [
    "# Low pass filter"
   ]
  },
  {
   "cell_type": "code",
   "execution_count": 3,
   "metadata": {},
   "outputs": [],
   "source": [
    "# LPF compressed\n",
    "def LPF(signal):    \n",
    "    fc =300\n",
    "    sr = 22050\n",
    "    w = fc/(sr/2)\n",
    "    b,a = butter(3,w , btype = \"lowpass\")\n",
    "\n",
    "    x = filtfilt(b,a, signal)\n",
    "    x = x/x.max()\n",
    "\n",
    "    return x"
   ]
  },
  {
   "cell_type": "markdown",
   "metadata": {},
   "source": [
    " "
   ]
  },
  {
   "cell_type": "markdown",
   "metadata": {},
   "source": [
    " "
   ]
  },
  {
   "cell_type": "markdown",
   "metadata": {},
   "source": [
    " "
   ]
  },
  {
   "cell_type": "markdown",
   "metadata": {},
   "source": [
    " "
   ]
  },
  {
   "cell_type": "markdown",
   "metadata": {},
   "source": [
    " "
   ]
  },
  {
   "cell_type": "markdown",
   "metadata": {},
   "source": [
    " "
   ]
  },
  {
   "cell_type": "markdown",
   "metadata": {},
   "source": [
    " "
   ]
  },
  {
   "cell_type": "markdown",
   "metadata": {},
   "source": [
    " # MFCC"
   ]
  },
  {
   "cell_type": "markdown",
   "metadata": {},
   "source": [
    "**FUNCTION AUDIO_NORM**\n",
    "\n",
    "* Normalize data."
   ]
  },
  {
   "cell_type": "code",
   "execution_count": 4,
   "metadata": {},
   "outputs": [],
   "source": [
    "def audio_norm(data):\n",
    "    data = (data-min(data))/(max(data)-min(data)+0.0001)\n",
    "    return data-0.5"
   ]
  },
  {
   "cell_type": "markdown",
   "metadata": {},
   "source": [
    "**FUNCTION GET_FILENAMES**\n",
    "\n",
    "Gets filenames if they are not in [\"Aunlabelledtest\", \"Bunlabelledtest\",\"artifact\"]. Which results in:\n",
    " - {'artifact', 'extrahls', 'murmur', 'normal'}: for set_a\n",
    " - {'extrastole', 'murmur', 'normal'}: for set_b"
   ]
  },
  {
   "cell_type": "code",
   "execution_count": 5,
   "metadata": {},
   "outputs": [],
   "source": [
    "def get_filenames(path):\n",
    "    files = []\n",
    "    for file in glob.glob(path + \"/*\"):\n",
    "        if file.split(\"\\\\\")[-1].split(\"_\")[0] not in [\"Aunlabelledtest\", \"Bunlabelledtest\", \"artifact\"]:\n",
    "            files.append(file.split(\"\\\\\")[1])\n",
    "    return files"
   ]
  },
  {
   "cell_type": "markdown",
   "metadata": {},
   "source": [
    "**FUNCTION GET_MFCC**\n",
    "\n",
    "Gets MFCC array for different sets."
   ]
  },
  {
   "cell_type": "code",
   "execution_count": 6,
   "metadata": {},
   "outputs": [],
   "source": [
    "def get_mfcc_CNN(path, file_names, duration = MAX_AUDIO_DURATION, sr=22050):\n",
    "    \n",
    "    input_length=sr*duration\n",
    "    \n",
    "    # function to load files and extract features\n",
    "    data = []\n",
    "    for file_name in tqdm(file_names):\n",
    "        \n",
    "        try:\n",
    "            sound_file = path + file_name        \n",
    "            signal, sr = librosa.load( sound_file, sr=sr, duration=duration,res_type='kaiser_fast') #duration=duration \n",
    "            dur = librosa.get_duration(y = signal, sr=sr)\n",
    "            \n",
    "            # pad audio file same duration\n",
    "            if (round(dur) < duration):\n",
    "                y = librosa.util.fix_length(signal, input_length) \n",
    "            #normalized raw audio \n",
    "            signal_norm = audio_norm(y)\n",
    "            \n",
    "            #LPF\n",
    "            X = LPF(signal_norm)\n",
    "            #MFCC      \n",
    "            mfccs = librosa.feature.mfcc(y = X, sr=sr, n_mfcc=40).T\n",
    "            \n",
    "        except Exception as e:\n",
    "            print(\"Error encountered while parsing file: \", file_name)        \n",
    "        feature = mfccs.reshape(*mfccs.shape,1)\n",
    "        data.append(feature)\n",
    "    return data"
   ]
  },
  {
   "cell_type": "markdown",
   "metadata": {},
   "source": [
    "### Get files and mfccs"
   ]
  },
  {
   "cell_type": "code",
   "execution_count": 7,
   "metadata": {},
   "outputs": [
    {
     "name": "stderr",
     "output_type": "stream",
     "text": [
      "100%|██████████████████████████████████████████████████████████████████████████████████| 84/84 [00:15<00:00,  5.57it/s]\n",
      "100%|████████████████████████████████████████████████████████████████████████████████| 461/461 [01:04<00:00,  7.15it/s]\n"
     ]
    }
   ],
   "source": [
    "# CNN\n",
    "a_files  = get_filenames(PATH_A)\n",
    "a_sounds = get_mfcc_CNN(path = PATH_A , file_names = a_files, duration = MAX_AUDIO_DURATION) #Same duration for each file\n",
    "b_files  = get_filenames(PATH_B)\n",
    "b_sounds = get_mfcc_CNN(path = PATH_B , file_names = b_files, duration = MAX_AUDIO_DURATION) #Same duration for each file"
   ]
  },
  {
   "cell_type": "markdown",
   "metadata": {},
   "source": [
    "### Get labels\n",
    "\n",
    "{'artifact', 'extrahls', 'murmur', 'normal'}: for set_a\n",
    "\n",
    "{'extrastole', 'murmur', 'normal'}: for set_b\n",
    "* 0 = normal\n",
    "* 1 = murmur\n",
    "* 2 = extrasystole\n",
    "* 3 = artifact"
   ]
  },
  {
   "cell_type": "code",
   "execution_count": 8,
   "metadata": {},
   "outputs": [],
   "source": [
    "# All filenames together\n",
    "files = a_files + b_files"
   ]
  },
  {
   "cell_type": "code",
   "execution_count": 9,
   "metadata": {},
   "outputs": [],
   "source": [
    "labels = []\n",
    "len_classes = 3\n",
    "for file in files:\n",
    "    if 'normal' in file:\n",
    "        labels.append(0)\n",
    "    elif 'murmur' in file:\n",
    "        labels.append(1)\n",
    "    elif 'extrastole' in file:\n",
    "        labels.append(2)\n",
    "    elif 'extrahls' in file:\n",
    "        labels.append(2)\n"
   ]
  },
  {
   "cell_type": "code",
   "execution_count": 10,
   "metadata": {},
   "outputs": [],
   "source": [
    "# CNN\n",
    "ab = a_sounds+b_sounds\n",
    "ab = [np.expand_dims(i, 0) for i in ab]\n",
    "X = np.concatenate(ab)\n",
    "y = np.asarray(labels)"
   ]
  },
  {
   "cell_type": "markdown",
   "metadata": {},
   "source": [
    " "
   ]
  },
  {
   "cell_type": "markdown",
   "metadata": {},
   "source": [
    " "
   ]
  },
  {
   "cell_type": "markdown",
   "metadata": {},
   "source": [
    " "
   ]
  },
  {
   "cell_type": "markdown",
   "metadata": {},
   "source": [
    " "
   ]
  },
  {
   "cell_type": "markdown",
   "metadata": {},
   "source": [
    " "
   ]
  },
  {
   "cell_type": "markdown",
   "metadata": {},
   "source": [
    "# Train-test-split"
   ]
  },
  {
   "cell_type": "code",
   "execution_count": 11,
   "metadata": {},
   "outputs": [],
   "source": [
    "X_train, X_test, y_train, y_test = train_test_split(X, y, train_size=0.8,random_state=1000, shuffle=True)\n",
    "\n",
    "# To binary\n",
    "y_train = np.array(keras.utils.to_categorical(y_train, len_classes)) \n",
    "y_test = np.array(keras.utils.to_categorical(y_test, len_classes))"
   ]
  },
  {
   "cell_type": "code",
   "execution_count": 12,
   "metadata": {},
   "outputs": [
    {
     "name": "stdout",
     "output_type": "stream",
     "text": [
      "Labels shape: (545,)\n",
      "Data size of the array: 545\n",
      "\n",
      "Audio data shape: (545, 517, 40, 1)\n",
      "Data size of the array: 11270600\n",
      "\n",
      "Training data shape: (436, 517, 40, 1)\n",
      "Training label shape: (436, 3)\n",
      "\n",
      "Validation data shape: (109, 517, 40, 1)\n",
      "Validation label shape: (109, 3)\n"
     ]
    }
   ],
   "source": [
    "print (f\"Labels shape: {y.shape}\")\n",
    "print (f\"Data size of the array: {y.size}\\n\" )\n",
    "print (f\"Audio data shape: {X.shape}\" )\n",
    "print (f\"Data size of the array: {X.size}\\n\" )\n",
    "print (f\"Training data shape: {X_train.shape}\")\n",
    "print (f\"Training label shape: {y_train.shape}\\n\" )\n",
    "print (f\"Validation data shape: {X_test.shape}\")\n",
    "print (f\"Validation label shape: {y_test.shape}\")\n"
   ]
  },
  {
   "cell_type": "markdown",
   "metadata": {},
   "source": [
    " "
   ]
  },
  {
   "cell_type": "markdown",
   "metadata": {},
   "source": [
    " "
   ]
  },
  {
   "cell_type": "markdown",
   "metadata": {},
   "source": [
    " "
   ]
  },
  {
   "cell_type": "markdown",
   "metadata": {},
   "source": [
    " "
   ]
  },
  {
   "cell_type": "markdown",
   "metadata": {},
   "source": [
    " # CNN Model"
   ]
  },
  {
   "cell_type": "markdown",
   "metadata": {},
   "source": [
    "##### Build CNN"
   ]
  },
  {
   "cell_type": "code",
   "execution_count": 28,
   "metadata": {},
   "outputs": [],
   "source": [
    "input_shape = X_train.shape[1:]\n",
    "\n",
    "# create model \n",
    "model = Sequential()\n",
    "\n",
    "# 1st layer\n",
    "model.add(Conv2D(32,(3,3),  activation = \"relu\", input_shape = input_shape))#, data_format='channels_first'))\n",
    "model.add(MaxPool2D((3,3), strides = (2,2), padding = 'same'))\n",
    "model.add(BatchNormalization()) #normalizes the activations in a layer\n",
    "\n",
    "# 2nd layer\n",
    "model.add(Conv2D(32,(3,3),  activation = \"relu\", input_shape = input_shape))\n",
    "model.add(MaxPool2D((3,3), strides = (2,2), padding = 'same'))\n",
    "model.add(BatchNormalization()) #normalizes the activations in a layer\n",
    "\n",
    "# 3rd layer\n",
    "model.add(Conv2D(32,(2,2),  activation = \"relu\", input_shape = input_shape))\n",
    "model.add(MaxPool2D((2,2), strides = (2,2), padding = 'same'))\n",
    "model.add(BatchNormalization()) #normalizes the activations in a layer\n",
    "\n",
    "# Flatten (1D) the output and feed it into dense layer\n",
    "model.add(Flatten())\n",
    "model.add(Dense(64, activation='relu')) # 64 neurons\n",
    "model.add(Dropout(0.3)) # Dropout probability\n",
    "\n",
    "# output layer\n",
    "model.add(Dense(3, activation = 'softmax')) # as many neurons as number of classes = 3"
   ]
  },
  {
   "cell_type": "code",
   "execution_count": 29,
   "metadata": {},
   "outputs": [],
   "source": [
    "# Compile de network\n",
    "optimizer = Adam(learning_rate = 0.0001)\n",
    "model.compile(optimizer = optimizer, \n",
    "              loss = \"categorical_crossentropy\",\n",
    "              metrics = [\"accuracy\"])"
   ]
  },
  {
   "cell_type": "code",
   "execution_count": 30,
   "metadata": {},
   "outputs": [
    {
     "data": {
      "image/png": "[encoded data removed]",
      "text/plain": [
       "<Figure size 864x864 with 4 Axes>"
      ]
     },
     "metadata": {
      "needs_background": "light"
     },
     "output_type": "display_data"
    },
    {
     "name": "stdout",
     "output_type": "stream",
     "text": [
      "accuracy\n",
      "\ttraining         \t (min:    0.583, max:    1.000, cur:    0.993)\n",
      "\tvalidation       \t (min:    0.459, max:    0.798, cur:    0.789)\n",
      "Loss\n",
      "\ttraining         \t (min:    0.044, max:    1.234, cur:    0.051)\n",
      "\tvalidation       \t (min:    0.582, max:    1.062, cur:    0.674)\n",
      "lr\n",
      "\tlr               \t (min:    0.000, max:    0.000, cur:    0.000)\n",
      "\b\b\b\b\b\b\b\b\b\b\b\b\b\b\b\b\b\b\b\b\b\b\b\b\b\b\b\b\b\b\b\b\b\b\b\b\b\b\b\b\b\b\b\b\b\b\b\b\b\b\b\b\b\b\b\b\b\b\b\b\b\b\b\b\b\b\b\b\b\b\b\b\b\b\b\b\b\b\b\b\b\b\r",
      "14/14 [==============================] - 5s 327ms/step - loss: 0.0511 - accuracy: 0.9931 - val_loss: 0.6741 - val_accuracy: 0.7890\n"
     ]
    },
    {
     "data": {
      "text/plain": [
       "<tensorflow.python.keras.callbacks.History at 0x21537ace9d0>"
      ]
     },
     "execution_count": 30,
     "metadata": {},
     "output_type": "execute_result"
    }
   ],
   "source": [
    "# Train the model\n",
    "max_patience = 30\n",
    "max_epochs = 100\n",
    "max_batch = 32\n",
    "\n",
    "early_stopping = EarlyStopping(monitor='val_accuracy', \n",
    "                               patience = max_patience, \n",
    "                               verbose=0, mode='max', \n",
    "                               restore_best_weights=False)\n",
    "\n",
    "callbacks=[ReduceLROnPlateau(monitor='val_loss', factor=0.2,\n",
    "                              patience=5, min_lr=0.00001),\n",
    "                              early_stopping,\n",
    "                              PlotLossesKeras()]\n",
    "\n",
    "print(\"Training started..\")\n",
    "model.fit(X_train, y_train,\n",
    "         validation_data = (X_test,y_test),\n",
    "         batch_size = 32,\n",
    "         epochs = 35,\n",
    "          callbacks=callbacks)"
   ]
  },
  {
   "cell_type": "code",
   "execution_count": 31,
   "metadata": {},
   "outputs": [
    {
     "name": "stdout",
     "output_type": "stream",
     "text": [
      "Model training score: \n",
      "   Train loss = 0.039503760635852814 \n",
      "   Train acc = 1.0\n",
      "Model testing score: \n",
      "   Test loss = 0.6741142868995667 \n",
      "   Test acc = 0.78899085521698\n"
     ]
    }
   ],
   "source": [
    "# Evaluate the CNN\n",
    "score = model.evaluate(X_train, y_train, verbose=0) \n",
    "print (\"Model training score: \")\n",
    "print(f\"   Train loss = {score[0]} \\n   Train acc = {score[1]}\")\n",
    "\n",
    "score = model.evaluate(X_test, y_test, verbose=0) \n",
    "print (\"Model testing score: \")\n",
    "print(f\"   Test loss = {score[0]} \\n   Test acc = {score[1]}\")"
   ]
  },
  {
   "cell_type": "code",
   "execution_count": 48,
   "metadata": {},
   "outputs": [
    {
     "name": "stdout",
     "output_type": "stream",
     "text": [
      "Saved model to disk\n"
     ]
    }
   ],
   "source": [
    "# serialize model to JSON\n",
    "model_json = model.to_json()\n",
    "with open(\"model.json\", \"w\") as json_file:\n",
    "    json_file.write(model_json)\n",
    "\n",
    "    # serialize weights to HDF5\n",
    "model.save_weights(\"model.h5\")\n",
    "print(\"Saved model to disk\")"
   ]
  },
  {
   "cell_type": "markdown",
   "metadata": {},
   "source": [
    " "
   ]
  }
 ],
 "metadata": {
  "kernelspec": {
   "display_name": "Python 3",
   "language": "python",
   "name": "python3"
  },
  "language_info": {
   "codemirror_mode": {
    "name": "ipython",
    "version": 3
   },
   "file_extension": ".py",
   "mimetype": "text/x-python",
   "name": "python",
   "nbconvert_exporter": "python",
   "pygments_lexer": "ipython3",
   "version": "3.8.5"
  }
 },
 "nbformat": 4,
 "nbformat_minor": 4
}
